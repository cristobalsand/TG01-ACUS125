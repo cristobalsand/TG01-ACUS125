{
 "cells": [
  {
   "cell_type": "code",
   "execution_count": 4,
   "id": "a5ef5cbe",
   "metadata": {},
   "outputs": [
    {
     "data": {
      "text/html": [
       "<!-- Mejorar visualización en proyector -->\n",
       "<style>\n",
       ".rendered_html {font-size: 1.2em; line-height: 150%;}\n",
       "div.prompt {min-width: 0ex; }\n",
       ".container {width:95% !important;}\n",
       "</style>\n"
      ],
      "text/plain": [
       "<IPython.core.display.HTML object>"
      ]
     },
     "metadata": {},
     "output_type": "display_data"
    }
   ],
   "source": [
    "%%HTML\n",
    "<!-- Mejorar visualización en proyector -->\n",
    "<style>\n",
    ".rendered_html {font-size: 1.2em; line-height: 150%;}\n",
    "div.prompt {min-width: 0ex; }\n",
    ".container {width:95% !important;}\n",
    "</style>"
   ]
  },
  {
   "cell_type": "markdown",
   "id": "8d901a6a",
   "metadata": {},
   "source": [
    "<h1 style=\"text-align:center\">Trabajo Grupal 1</h1>\n",
    "<h3 style=\"text-align:center\">ACUS125: Análisis y aislamiento de vibraciones</h3>\n",
    "<p style=\"text-align:center\">Benjamín Bravo <br>\n",
    "<a href=\"mailto:benjamin.bravo@alumnos.uach.cl\">benjamin.bravo@alumnos.uach.cl</a><br>\n",
    "<p style=\"text-align:center\">Tomás Peñaloza <br>\n",
    "<a href=\"mailto:tomas.penaloza@alumnos.uach.cl\">tomas.penaloza@alumnos.uach.cl </a><br>\n",
    "<p style=\"text-align:center\">Cristóbal Sandoval <br>\n",
    "<a href=\"mailto:cristobal.sandoval02@alumnos.uach.cl\">cristobal.sandoval02@alumnos.uach.cl </a><br>"
   ]
  },
  {
   "cell_type": "markdown",
   "id": "3ea8e476",
   "metadata": {},
   "source": [
    "> + Una barra rígida, uniforme, de masa total ${\\text{m}}$ y longitud ${\\text{L}_{\\text{2}}}$, está suspendida en el punto ${\\text{0}}$ por una cuerda de longitud ${\\text{L}_{\\text{1}}}$. Sobre la barra actúa una fuerza horizontal ${\\text{F}}$ como se muestra en la Fig. 1."
   ]
  },
  {
   "cell_type": "markdown",
   "id": "2eb91d4e",
   "metadata": {},
   "source": [
    "<p style=\"text-align:center\">\n",
    "\t<img src=\"barra.jpg\" alt=\"Barra rígida\" width=30%/></a><br>\n",
    "    <strong> Figura 1: Barra rígida sobre una cuerda. </strong>\n",
    "</p>"
   ]
  },
  {
   "cell_type": "markdown",
   "id": "0eef70a1",
   "metadata": {},
   "source": [
    "> + Usar los desplazamientos angulares $\\theta_{\\text{1}}$ y $\\theta_{\\text{2}}$ para definir la posición, velocidad y aceleración del centro de masa $\\text{C}$, en términos de los ejes del cuerpo $\\hat{r}_{2}$ y $\\hat{\\theta}_{2}$"
   ]
  },
  {
   "cell_type": "markdown",
   "id": "a90335f5",
   "metadata": {},
   "source": [
    "## Planteamiento del problema"
   ]
  },
  {
   "cell_type": "markdown",
   "id": "5f154718",
   "metadata": {},
   "source": [
    "Para encontrar el vector de posición, primero se remodela el problema gráficamente:"
   ]
  },
  {
   "cell_type": "markdown",
   "id": "a34325e1",
   "metadata": {},
   "source": [
    "<p style=\"text-align:center\">\n",
    "\t<img src=\"remodelo.jpeg\" alt=\"Replanteamiento del problema\" width=30%/></a><br>\n",
    "    <strong> Figura 2: Replanteamiento del problema para encontrar el vector de posición </strong>\n",
    "</p>"
   ]
  },
  {
   "cell_type": "markdown",
   "id": "6ce484bf",
   "metadata": {},
   "source": [
    "## Desarrollo"
   ]
  },
  {
   "cell_type": "markdown",
   "id": "f6e168b4",
   "metadata": {},
   "source": [
    "Se calcula el vector de posición de masa como la suma del vector $\\vec{r}_{A}$ y $\\vec{r}_{AC}$"
   ]
  },
  {
   "cell_type": "markdown",
   "id": "ca426f28",
   "metadata": {},
   "source": [
    "\\begin{align*}\n",
    "{\\vec{r}}_{\\text{C}}={\\vec{r}}_{\\text{A}}+{\\vec{r}}_{\\text{AC}}\n",
    "\\end{align*}"
   ]
  },
  {
   "cell_type": "markdown",
   "id": "3ab576a5",
   "metadata": {},
   "source": [
    "Y se define el vector $\\vec{r}_{A}$ en función de $\\hat{r}_{1}$"
   ]
  },
  {
   "cell_type": "markdown",
   "id": "c6a736da",
   "metadata": {},
   "source": [
    "\\begin{align*}\n",
    "{\\vec{r}}_{\\text{A}}={\\text{L}}_{\\text{1}} \\cdot {\\hat{r}}_{\\text{1}}\n",
    "\\end{align*}"
   ]
  },
  {
   "cell_type": "markdown",
   "id": "f4f63b81",
   "metadata": {},
   "source": [
    "También el vector $\\vec{r}_{AC}$ en función de $\\hat{r}_{2}$"
   ]
  },
  {
   "cell_type": "markdown",
   "id": "ed2deae1",
   "metadata": {},
   "source": [
    "\\begin{align*}\n",
    "{\\vec{r}}_{\\text{AC}}=\\frac{{\\text{L}}_{\\text{2}}}{2} \\cdot {\\hat{r}}_{\\text{2}}\n",
    "\\end{align*}"
   ]
  },
  {
   "cell_type": "markdown",
   "id": "74a16b7f",
   "metadata": {},
   "source": [
    "Por lo tanto el vector de posición del centro de masa en función de $\\hat{r}_{1}$ y $\\hat{r}_{2}$ queda:"
   ]
  },
  {
   "cell_type": "markdown",
   "id": "52f4bee8",
   "metadata": {},
   "source": [
    "\\begin{align*}\n",
    "{\\vec{r}}_{\\text{C}}={\\text{L}}_{\\text{1}} \\cdot {\\hat{r}}_{\\text{1}}+\\frac{{\\text{L}}_{\\text{2}}}{2} \\cdot {\\hat{r}}_{\\text{2}}\n",
    "\\end{align*}"
   ]
  },
  {
   "cell_type": "markdown",
   "id": "9c21ea24",
   "metadata": {},
   "source": [
    "Ahora se puede obtener la velocidad vectorial en un movimiento armónico simple que por definición es:"
   ]
  },
  {
   "cell_type": "markdown",
   "id": "f3dd877d",
   "metadata": {},
   "source": [
    "\\begin{align*}\n",
    "{\\vec{v}}_{\\text{C}}={\\dot{\\vec{r}}}_{\\text{C}}=\\vec{r} \\cdot \\dot{\\theta} \\cdot {\\hat{\\theta}}\n",
    "\\end{align*}"
   ]
  },
  {
   "cell_type": "markdown",
   "id": "685270cf",
   "metadata": {},
   "source": [
    "Y al reemplazar se obtiene:"
   ]
  },
  {
   "cell_type": "markdown",
   "id": "895bbcdb",
   "metadata": {},
   "source": [
    "\\begin{align*}\n",
    "{\\vec{v}}_{\\text{C}}={\\text{L}}_{\\text{1}} \\cdot {\\dot{\\theta}}_{\\text{1}} \\cdot {\\hat{\\theta}_{1}} + \\frac{{\\text{L}}_{\\text{2}}}{2} \\cdot {\\dot{\\theta}}_{\\text{2}} \\cdot {\\hat{\\theta}_{2}}\n",
    "\\end{align*}"
   ]
  },
  {
   "cell_type": "markdown",
   "id": "4a8c2404",
   "metadata": {},
   "source": [
    "Y por definición también se puede calcular la aceleración:"
   ]
  },
  {
   "cell_type": "markdown",
   "id": "47fcf839",
   "metadata": {},
   "source": [
    "\\begin{align*}\n",
    "{\\vec{a}}_{\\text{C}}={\\ddot{\\vec{r}}}_{\\text{C}}={\\vec{r}}_{\\text{c}} \\cdot {\\ddot{\\theta}} \\cdot {\\hat{\\theta}} - {\\vec{r}}_{\\text{c}} \\cdot \\dot{\\theta}^{2} \\cdot \\hat{r}\n",
    "\\end{align*}"
   ]
  },
  {
   "cell_type": "markdown",
   "id": "33655c9a",
   "metadata": {},
   "source": [
    "\\begin{align*}\n",
    "{\\vec{a}}_{\\text{C}}={\\text{L}}_{\\text{1}} \\cdot {\\ddot{\\theta}}_{\\text{1}} \\cdot {\\hat{\\theta}}_{\\text{1}} +\\frac{{\\text{L}}_{\\text{2}}}{2} \\cdot {\\ddot{\\theta}}_{\\text{2}} \\cdot {\\hat{\\theta}}_{\\text{2}} - {\\text{L}}_{\\text{1}} \\cdot \\dot{\\theta}^{2}_{\\text{1}} \\cdot {\\hat{r}}_{\\text{1}} - \\frac{{\\text{L}}_{\\text{2}}}{2} \\cdot \\dot{\\theta}^{2}_{\\text{2}} \\cdot {\\hat{r}}_{\\text{2}}\n",
    "\\end{align*}"
   ]
  },
  {
   "cell_type": "markdown",
   "id": "83ecd510",
   "metadata": {},
   "source": [
    "Ya que el ejercicio pide que las funciones estén expresadas en función de $\\hat{r}_{2}$ y $\\hat{\\theta}_{2}$ entonces hay que deducir el valor de los vectores unitarios $\\hat{r}_{\\text{1}}$ y $\\hat{\\theta}_{1}$, para esto utilizamos la vista geométrica del problema:"
   ]
  },
  {
   "cell_type": "markdown",
   "id": "158c6b63",
   "metadata": {},
   "source": [
    "<p style=\"text-align:center\">\n",
    "\t<img src=\"r1.jpg\" alt=\"r1\" width=40%/></a><br>\n",
    "    <strong> Figura 3: Vista del vector $\\hat{r}_{1}$ sobrepuesto en $\\hat{r}_{2}$ y $\\hat{\\theta}_{2}$  </strong>\n",
    "</p>"
   ]
  },
  {
   "cell_type": "markdown",
   "id": "401b349b",
   "metadata": {},
   "source": [
    "\\begin{align*}\n",
    "Donde \\hspace{0.5cm} \\Delta\\theta=\\theta_{2}-\\theta_{1}\n",
    "\\end{align*}"
   ]
  },
  {
   "cell_type": "markdown",
   "id": "6d09e1e5",
   "metadata": {},
   "source": [
    "Y se puede encontrar la expresión para $\\hat{r}_{1}$:"
   ]
  },
  {
   "cell_type": "markdown",
   "id": "c6a9465d",
   "metadata": {},
   "source": [
    "\\begin{align*}\n",
    "\\hat{r}_{1} = \\cos(\\Delta\\theta)\\cdot\\hat{r}_{2} - \\sin(\\Delta\\theta)\\cdot\\hat{\\theta}_{2}\n",
    "\\end{align*}"
   ]
  },
  {
   "cell_type": "markdown",
   "id": "0c89a541",
   "metadata": {},
   "source": [
    "Para $\\hat{\\theta}_{1}$ tenemos:"
   ]
  },
  {
   "cell_type": "markdown",
   "id": "96a7c327",
   "metadata": {},
   "source": [
    "<p style=\"text-align:center\">\n",
    "\t<img src=\"tetha1.jpg\" alt=\"theta1\" width=40%/></a><br>\n",
    "    <strong> Figura 4: Vista del vector $\\hat{\\theta}_{1}$ sobrepuesto en $\\hat{r}_{2}$ y $\\hat{\\theta}_{2}$  </strong>\n",
    "</p>"
   ]
  },
  {
   "cell_type": "markdown",
   "id": "b14d2bba",
   "metadata": {},
   "source": [
    "\\begin{align*}\n",
    "\\hat{\\theta}_{1} = \\cos{(\\frac{\\pi}{2}-\\Delta\\theta)}\\cdot\\hat{r}_{2} + \\sin{(\\frac{\\pi}{2}-\\Delta\\theta)}\\cdot\\hat{\\theta}_{2}\n",
    "\\end{align*}\n",
    "\n",
    "Y aplicando las identidades trigonométricas resulta:\n",
    "\n",
    "\\begin{align*}\n",
    "\\hat{\\theta}_{1} = \\sin{(\\Delta\\theta)}\\cdot\\hat{r}_{2} + \\cos{(\\Delta\\theta)}\\cdot\\hat{\\theta}_{2}\n",
    "\\end{align*}"
   ]
  },
  {
   "cell_type": "markdown",
   "id": "ede47149",
   "metadata": {},
   "source": [
    "## Resultados"
   ]
  },
  {
   "cell_type": "markdown",
   "id": "d87602f0",
   "metadata": {},
   "source": [
    "Ahora se puede reemplazar en las ecuaciones obtenidas anteriormente:"
   ]
  },
  {
   "cell_type": "markdown",
   "id": "49e5c1a2",
   "metadata": {},
   "source": [
    "Para la aceleración:\n",
    "\n",
    "\\begin{align*}\n",
    "{\\vec{a}}_{{C}_{\\hat{r}_{2}}} = \\left\\lbrace-\\text{L}_{1} \\cdot \\dot{\\theta_{1}}^{2} \\cdot \\cos{(\\Delta\\theta)} + \\text{L}_{1} \\cdot \\ddot{\\theta_{1}} \\cdot \\sin{(\\Delta\\theta)} - \\frac{\\text{L}_{2}}{2} \\cdot \\dot{\\theta_{2}}^{2}\\right\\rbrace \\cdot \\hat{r}_{2}\n",
    "\\end{align*}\n",
    "\n",
    "\\begin{align*}\n",
    "{\\vec{a}}_{{C}_{\\hat{\\theta}_{2}}} = \\left\\lbrace \\text{L}_{1} \\cdot \\dot{\\theta_{1}}^{2} \\cdot \\sin{(\\Delta\\theta)} + \\text{L}_{1} \\cdot \\ddot{\\theta_{1}} \\cdot \\cos{(\\Delta\\theta)} + \\frac{\\text{L}_{2}}{2} \\cdot \\ddot{\\theta_{2}}\\right\\rbrace \\cdot \\hat{\\theta}_{2}\n",
    "\\end{align*}\n",
    "\n",
    "Para el vector de posición:\n",
    "\n",
    "\\begin{align*}\n",
    "{\\vec{r}}_{\\text{C}}={\\text{L}}_{\\text{1}} \\cdot \\left[\\cos(\\Delta\\theta)\\cdot\\hat{r}_{2} - \\sin(\\Delta\\theta)\\cdot\\hat{\\theta}_{2}\\right]+\\frac{{\\text{L}}_{\\text{2}}}{2} \\cdot {\\hat{r}}_{\\text{2}}\n",
    "\\end{align*}\n",
    "\n",
    "Y el vector de velocidad:\n",
    "\n",
    "\\begin{align*}\n",
    "{\\vec{v}}_{\\text{C}}={\\text{L}}_{\\text{1}} \\cdot {\\dot{\\theta}}_{\\text{1}} \\cdot \\left[\\sin{(\\Delta\\theta)}\\cdot\\hat{r}_{2} + \\cos{(\\Delta\\theta)}\\cdot\\hat{\\theta}_{2}\\right] + \\frac{{\\text{L}}_{\\text{2}}}{2} \\cdot {\\dot{\\theta}}_{\\text{2}} \\cdot {\\hat{\\theta}_{2}}\n",
    "\\end{align*}"
   ]
  },
  {
   "cell_type": "markdown",
   "id": "d58db195",
   "metadata": {},
   "source": [
    "# Análisis de fuerzas"
   ]
  },
  {
   "cell_type": "markdown",
   "id": "614b81cc",
   "metadata": {},
   "source": [
    "Ahora podemos aplicar las leyes de Newton en el problema:"
   ]
  },
  {
   "cell_type": "markdown",
   "id": "54ace276",
   "metadata": {},
   "source": [
    "\\begin{align*}\n",
    "\\sum F_{{r}_{2}} = m \\cdot {a}_{{C}_{\\hat{r}_{2}}}\n",
    "\\end{align*}\n",
    "\n",
    "\\begin{align*}\n",
    "\\sum F_{{\\theta}_{2}} = m \\cdot {a}_{{C}_{\\hat{\\theta}_{2}}}\n",
    "\\end{align*}"
   ]
  },
  {
   "cell_type": "markdown",
   "id": "292b8df6",
   "metadata": {},
   "source": [
    "<p style=\"text-align:center\">\n",
    "\t<img src=\"suma_vectores_r_2.png\" alt=\"suma_r_2\" width=25%/></a><br>\n",
    "    <strong> Figura 5: Vista del problema desde la línea del vector unitario $\\hat{r}_{2}$  </strong>\n",
    "</p>"
   ]
  },
  {
   "cell_type": "markdown",
   "id": "6c93ef1a",
   "metadata": {},
   "source": [
    "Entonces en el eje de $\\hat{r}_{2}$ existen tres fuerzas que actúan: el peso, la tensión T y la fuerza F.\n",
    "\n",
    "Resultando:\n",
    "\n",
    "\\begin{align*}\n",
    "\\sum F_{{r}_{2}}  = m \\cdot g \\cdot \\cos (\\theta_{2}) + F \\cdot \\cos (\\frac{\\pi}{2} - \\theta_{2}) - T \\cdot \\cos (\\Delta \\theta)\n",
    "\\\\\n",
    "\\sum F_{{r}_{2}}  = m \\cdot g \\cdot \\cos (\\theta_{2}) + F \\cdot \\sin (\\theta_{2}) - T \\cdot \\cos (\\Delta \\theta)\n",
    "\\end{align*}\n",
    "\n",
    "Y para el eje de $\\hat{\\theta}_{2}$ aparecen las mismas fuerzas con su respectivo componente perpendicular a $\\hat{r}_{2}$ y sentido correspondiente:\n",
    "\n",
    "Entonces:\n",
    "\n",
    "\\begin{align*}\n",
    "\\sum F_{{\\theta}_{2}}  = - m \\cdot g \\cdot \\sin (\\theta_{2}) + F \\cdot \\cos (\\theta_{2}) + T \\cdot \\sin (\\Delta \\theta)\n",
    "\\end{align*}"
   ]
  },
  {
   "cell_type": "markdown",
   "id": "b4c17aed",
   "metadata": {},
   "source": [
    "Finalmente queda encontrar el momento de la fuerza y las líneas de acción respecto al centro de masa:\n",
    "\n",
    "<p style=\"text-align:center\">\n",
    "\t<img src=\"momentos.png\" alt=\"momentos\" width=25%/></a><br>\n",
    "    <strong> Figura 6: Planteamiento de las líneas de acción de las fuerzas  </strong>\n",
    "</p>"
   ]
  },
  {
   "cell_type": "markdown",
   "id": "d5570064",
   "metadata": {},
   "source": [
    "Donde el momento de la fuerza está dado por:\n",
    "    \n",
    "\\begin{align*}\n",
    "M = \\vec{r} \\times \\vec{\\text{F}} = |r| \\cdot |\\text{F}| \\cdot \\sin(\\alpha)\n",
    "\\end{align*}\n",
    "\n",
    "Donde $\\alpha$ es el ángulo entre los dos vectores.\n",
    "\n",
    "> + Para la fuerza F se obtiene:\n",
    "\n",
    "\\begin{align*}\n",
    "\\text{M}_{F} = \\vec{r}_{F} \\times \\vec{\\text{F}}_{F} \n",
    "\\end{align*}\n",
    "\n",
    "Donde:\n",
    "\n",
    "\\begin{align*}\n",
    "\\vec{r}_{F} = \\frac{\\text{L}_{2}}{2}\n",
    "\\end{align*}\n",
    "\n",
    "\\begin{align*}\n",
    "\\vec{\\text{F}}_{F} =  \\text{F}_{{\\theta}_{2}} = \\text{F} \\cdot \\sin (\\frac{\\pi}{2} - \\theta_{2}) \\, \\Longrightarrow \\, \\vec{\\text{F}}_{F} = \\text{F} \\cdot \\cos (\\theta_{2})\n",
    "\\end{align*}\n",
    "\n",
    "\\begin{align*}\n",
    "\\text{M}_{F} = \\frac{\\text{L}_{2}}{2} \\cdot \\text{F} \\cdot \\cos (\\theta_{2})\n",
    "\\end{align*}\n",
    "\n",
    "> + Para el peso :\n",
    "\n",
    "\\begin{align*}\n",
    "\\text{M}_{mg} = \\vec{r}_{mg} \\times \\vec{\\text{F}}_{mg} \n",
    "\\end{align*}\n",
    "\n",
    "Pero la distancia con el centro de masa es nula :\n",
    "\n",
    "\\begin{align*}\n",
    "\\therefore \\, \\vec{r}_{mg} = 0 \\, \\Longrightarrow \\, \\text{M}_{mg} = 0\n",
    "\\end{align*}\n",
    "\n",
    ">+ Para la tensión T :\n",
    "\n",
    "\\begin{align*}\n",
    "\\text{M}_{T} = \\vec{r}_{T} \\times \\vec{\\text{F}}_{T} \n",
    "\\end{align*}\n",
    "\\begin{align*}\n",
    "\\text{M}_{T} = - \\frac{\\text{L}_{2}}{2} \\cdot \\text{T} \\cdot \\sin (\\Delta{\\theta})\n",
    "\\end{align*}\n",
    "\n",
    "El momento es negativo según la ley de la mano derecha."
   ]
  },
  {
   "cell_type": "markdown",
   "id": "60a4bb94",
   "metadata": {},
   "source": [
    "Entonces el momento del centro de masa queda expresado como:\n",
    "\n",
    "\\begin{align*}\n",
    "\\text{M}_{C} = \\text{M}_{F} + \\text{M}_{T} + \\text{M}_{mg}\n",
    "\\end{align*}\n",
    "\n",
    "\\begin{align*}\n",
    "\\text{M}_{C} = \\frac{\\text{L}_{2}}{2} \\cdot \\text{F} \\cdot \\cos (\\theta_{2}) - \\frac{\\text{L}_{2}}{2} \\cdot \\text{T} \\cdot \\sin (\\Delta{\\theta}) = \\text{I}_{C} \\cdot \\alpha\n",
    "\\end{align*}\n",
    "\n",
    "Donde $\\text{I}_{C}$ es el momento de inercia que se obtiene como:\n",
    "\n",
    "\\begin{align*}\n",
    "\\text{I}_{C} = \\int_{\\text{cuerpo}} x^2 dm\n",
    "\\end{align*}\n",
    "\n",
    "\\begin{align*}\n",
    "con \\,\\,\\, dm = \\frac{m}{L} \\cdot dx\n",
    "\\end{align*}\n",
    "\n",
    "\\begin{align*}\n",
    "\\text{I}_{C} = \\frac{m}{L}\\int_{-\\frac{\\text{L}_{2}}{2}}^{\\frac{\\text{L}_{2}}{2}} x^2 dx\n",
    "= \\frac{m \\cdot \\text{L}_{2}^2}{12}\n",
    "\\end{align*}\n",
    "\n",
    "Y $\\alpha$ es la aceleración angular ($\\ddot{\\theta}_{2}$), entonces la ecuación se puede expresar finalmente como:\n",
    "\n",
    "\\begin{align*}\n",
    "\\text{M}_{C} = \\frac{\\text{L}_{2}}{2} \\cdot \\text{F} \\cdot \\cos (\\theta_{2}) - \\frac{\\text{L}_{2}}{2} \\cdot \\text{T} \\cdot \\sin (\\Delta{\\theta}) = \\frac{m \\cdot \\text{L}_{2}^2}{12} \\cdot \\ddot{\\theta}_{2}\n",
    "\\end{align*}"
   ]
  }
 ],
 "metadata": {
  "kernelspec": {
   "display_name": "ACUS125",
   "language": "python",
   "name": "acus125"
  },
  "language_info": {
   "codemirror_mode": {
    "name": "ipython",
    "version": 3
   },
   "file_extension": ".py",
   "mimetype": "text/x-python",
   "name": "python",
   "nbconvert_exporter": "python",
   "pygments_lexer": "ipython3",
   "version": "3.8.12"
  }
 },
 "nbformat": 4,
 "nbformat_minor": 5
}
